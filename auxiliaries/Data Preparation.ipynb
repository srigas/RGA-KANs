{
 "cells": [
  {
   "cell_type": "markdown",
   "id": "edd16f7b-0c4f-4562-8eb4-9f077d193423",
   "metadata": {},
   "source": [
    "# Data Preparation"
   ]
  },
  {
   "cell_type": "markdown",
   "id": "35f91fbb-31ee-406d-84c3-188439cd59e6",
   "metadata": {},
   "source": [
    "This notebook handles the preparation of the reference solution data used in the experiments of the paper. Among them, some are loaded from `.mat` files acquired from the [JaxPI repository](https://github.com/PredictiveIntelligenceLab/jaxpi/tree/pirate/examples), while others are obtained through knowledge of the equation's analytic solution."
   ]
  },
  {
   "cell_type": "code",
   "execution_count": null,
   "id": "42a7d9ad-65fb-4920-afde-1517e7eae792",
   "metadata": {},
   "outputs": [],
   "source": [
    "import os\n",
    "\n",
    "import scipy\n",
    "import numpy as np\n",
    "\n",
    "import matplotlib.pyplot as plt\n",
    "import seaborn as sns\n",
    "\n",
    "current_dir = os.getcwd()\n",
    "parent_dir = os.path.dirname(current_dir)\n",
    "data_dir = os.path.join(parent_dir, \"data\")\n",
    "\n",
    "os.makedirs(data_dir, exist_ok=True)\n",
    "\n",
    "plots_dir = os.path.join(parent_dir, \"plots\")\n",
    "\n",
    "os.makedirs(plots_dir, exist_ok=True)"
   ]
  },
  {
   "cell_type": "markdown",
   "id": "7014b556-cdcc-4546-a2f0-eaa19a951edc",
   "metadata": {},
   "source": [
    "## Auxiliaries"
   ]
  },
  {
   "cell_type": "code",
   "execution_count": null,
   "id": "8fdf5030-0ae3-460e-98c5-0bfc3928685f",
   "metadata": {},
   "outputs": [],
   "source": [
    "# Function to save .mat files as .npz files for uniformity\n",
    "def mat_to_np(filename):\n",
    "    \n",
    "    data = scipy.io.loadmat(f'mat/{filename}.mat')\n",
    "    \n",
    "    filtered_data = {key: data[key] for key in ['t', 'x', 'usol']}\n",
    "\n",
    "    npz_filename = os.path.join(data_dir, filename + \".npz\")\n",
    "\n",
    "    np.savez_compressed(npz_filename, **filtered_data)\n",
    "\n",
    "    print(f\"Successfully saved file {filename}.\")"
   ]
  },
  {
   "cell_type": "code",
   "execution_count": null,
   "id": "a4038ba1-a049-425c-b1f9-a156af48e725",
   "metadata": {},
   "outputs": [],
   "source": [
    "# Function that receives a function to create a reference solution\n",
    "def create_sol(points, func, filename):\n",
    "\n",
    "    x1, x2 = tuple(points.values())\n",
    "    X1, X2 = np.meshgrid(x1, x2, indexing='ij')\n",
    "    coords = np.stack([X1.flatten(), X2.flatten()], axis=1)\n",
    "    \n",
    "    N_1, N_2 = x1.shape[0], x2.shape[0]\n",
    "\n",
    "    ref = dict()\n",
    "    for key in points:        \n",
    "        ref[key] = points[key].reshape(-1,1).T\n",
    "    \n",
    "    result = func(coords)\n",
    "    \n",
    "    ref['usol'] = result.reshape((N_1, N_2))\n",
    "\n",
    "    npz_filename = os.path.join(data_dir, filename + \".npz\")\n",
    "\n",
    "    np.savez_compressed(npz_filename, **ref)\n",
    "\n",
    "    print(f\"Successfully saved file {filename}.\")"
   ]
  },
  {
   "cell_type": "code",
   "execution_count": null,
   "id": "35465b61-6457-430c-b306-3a4c31cd522f",
   "metadata": {},
   "outputs": [],
   "source": [
    "LABEL_FS = 14\n",
    "TITLE_FS = 16\n",
    "TICK_FS = 12\n",
    "CBAR_FS = 14\n",
    "\n",
    "# Function to plot the reference solution to an equation\n",
    "def plot_sol(ref, eqname, save_fig=False, clim=None):\n",
    "    solplot = ref['usol']\n",
    "\n",
    "    if 't' in ref.files:\n",
    "        t = ref['t'].squeeze()\n",
    "        y = None\n",
    "    else:\n",
    "        t = None\n",
    "        y = ref['y'].squeeze()\n",
    "        \n",
    "    x = ref['x'].squeeze()\n",
    "\n",
    "    if t is not None:\n",
    "        extent = [t.min(), t.max(), x.min(), x.max()]\n",
    "    else:\n",
    "        extent = [x.min(), x.max(), y.min(), y.max()]\n",
    "\n",
    "    plt.figure(figsize=(6,4.5))\n",
    "    cmap = sns.color_palette(\"Spectral\", as_cmap=True)#.reversed()\n",
    "    img = plt.imshow(solplot.T, aspect='auto', origin='lower', extent=extent, cmap=cmap)\n",
    "    if clim is not None:\n",
    "        img.set_clim(*clim)\n",
    "    \n",
    "    #cbar = plt.colorbar()\n",
    "    colorbar_label = r\"$u(t,x)$\" if t is not None else r\"$u(x,y)$\"\n",
    "\n",
    "    # Create horizontal colorbar above the plot\n",
    "    cbar = plt.colorbar(orientation='horizontal', pad=0.2, fraction=0.05, aspect=30)\n",
    "    cbar.ax.tick_params(labelsize=CBAR_FS)\n",
    "    cbar.set_label(colorbar_label, fontsize=LABEL_FS, labelpad=5)\n",
    "    cbar.ax.xaxis.set_label_position('bottom')\n",
    "\n",
    "    \n",
    "    plt.xlabel(r\"$t$\" if t is not None else r\"$x$\", fontsize=LABEL_FS)\n",
    "    plt.ylabel(r\"$x$\" if t is not None else r\"$y$\", fontsize=LABEL_FS)\n",
    "    plt.title(f\"Solution to {eqname} Equation\", fontsize=TITLE_FS)\n",
    "\n",
    "    plt.tick_params(axis='both', which='major', labelsize=TICK_FS)\n",
    "\n",
    "    if save_fig:\n",
    "        plots_dir = os.path.join(parent_dir, \"plots\")\n",
    "        plt.savefig(f\"{plots_dir}/app_{eqname.lower()}.pdf\", format=\"pdf\", bbox_inches=\"tight\")\n",
    "    \n",
    "    plt.show()"
   ]
  },
  {
   "cell_type": "markdown",
   "id": "24611df7-8c88-4435-a2d6-2151c6dfe7d0",
   "metadata": {},
   "source": [
    "## Equations"
   ]
  },
  {
   "cell_type": "markdown",
   "id": "d9f7d594-573f-440f-9695-93d93014af82",
   "metadata": {},
   "source": [
    "### 1. Allen-Cahn"
   ]
  },
  {
   "cell_type": "markdown",
   "id": "82efed06-061e-4b5b-a901-0178738cde01",
   "metadata": {},
   "source": [
    "The Allen-Cahn equation for $t \\in \\left[0,1\\right],~ x \\in \\left[-1,1\\right]$ is given by\n",
    "\n",
    "$$\n",
    "    \\frac{\\partial u}{\\partial t} - 10^{-4}\\frac{\\partial^2u}{\\partial x^2} = 5\\left(u-u^3\\right),\n",
    "$$\n",
    "\n",
    "subject to initial/boundary conditions:\n",
    "\n",
    "$$ u\\left(0,x\\right) = x^2 \\cos\\left(\\pi x\\right), $$\n",
    "$$    u\\left(t,-1\\right) = u\\left(t,1\\right), $$\n",
    "$$    \\frac{\\partial u}{\\partial x}\\left(t,-1\\right) = \\frac{\\partial u}{\\partial x}\\left(t,1\\right). $$"
   ]
  },
  {
   "cell_type": "code",
   "execution_count": null,
   "id": "c419dab1-3d63-4b5e-b1c4-e2296608cc42",
   "metadata": {},
   "outputs": [],
   "source": [
    "filename = 'allen_cahn'\n",
    "\n",
    "# Save as npz\n",
    "mat_to_np(filename)"
   ]
  },
  {
   "cell_type": "code",
   "execution_count": null,
   "id": "0340fd17-8d97-4334-82a7-7c0defc82d49",
   "metadata": {},
   "outputs": [],
   "source": [
    "filename = 'allen_cahn'\n",
    "\n",
    "# Load file and display for documentation purposes\n",
    "ref = np.load(os.path.join(data_dir,filename+'.npz'))\n",
    "\n",
    "plot_sol(ref, \"Allen–Cahn\", save_fig=True, clim=(-1,1))"
   ]
  },
  {
   "cell_type": "code",
   "execution_count": null,
   "id": "7ff882ba-3700-4d65-b22c-c4e0caa79ec6",
   "metadata": {},
   "outputs": [],
   "source": []
  },
  {
   "cell_type": "markdown",
   "id": "ad5c1fc1-350f-47a8-9ed9-ab1de6f61fc4",
   "metadata": {},
   "source": [
    "### 2. Burgers"
   ]
  },
  {
   "cell_type": "markdown",
   "id": "8f9c6b28-a64b-44a5-943c-7ac098387070",
   "metadata": {},
   "source": [
    "The Burgers equation for $t \\in \\left[0,1\\right],~ x \\in \\left[-1,1\\right]$ is given by\n",
    "\n",
    "$$\n",
    "    \\frac{\\partial u}{\\partial t} + u\\frac{\\partial u}{\\partial x} = \\frac{1}{100\\pi} \\frac{\\partial^2 u}{\\partial x^2}, \n",
    "$$\n",
    "\n",
    "subject to initial/boundary conditions:\n",
    "\n",
    "$$ u\\left(0,x\\right) = -\\sin\\left(\\pi x\\right), $$\n",
    "$$    u\\left(t,-1\\right) = u\\left(t,1\\right) = 0. $$"
   ]
  },
  {
   "cell_type": "code",
   "execution_count": null,
   "id": "45ab464d-a7ba-49ac-96c4-66766fcd4b65",
   "metadata": {},
   "outputs": [],
   "source": [
    "filename = 'burgers'\n",
    "\n",
    "# Save as npz\n",
    "mat_to_np(filename)"
   ]
  },
  {
   "cell_type": "code",
   "execution_count": null,
   "id": "5e51edc0-5d4c-4de4-96c0-972c36b53556",
   "metadata": {},
   "outputs": [],
   "source": [
    "filename = 'burgers'\n",
    "\n",
    "# Load file and display for documentation purposes\n",
    "ref = np.load(os.path.join(data_dir,filename+'.npz'))\n",
    "\n",
    "plot_sol(ref, \"Burgers'\", save_fig=True, clim=(-1,1))"
   ]
  },
  {
   "cell_type": "code",
   "execution_count": null,
   "id": "4833a7a1-e083-4082-8bf6-8021f0083e1f",
   "metadata": {},
   "outputs": [],
   "source": []
  },
  {
   "cell_type": "markdown",
   "id": "4fa4aadf-519d-42f6-bf2f-2546d78d03b2",
   "metadata": {},
   "source": [
    "### 3. Korteweg-De Vries"
   ]
  },
  {
   "cell_type": "markdown",
   "id": "cdd42d4f-7691-4f7e-9a29-4575c489f94f",
   "metadata": {},
   "source": [
    "The KdV equation for $t \\in \\left[0,1\\right],~ x \\in \\left[-1,1\\right]$ is given by\n",
    "\n",
    "$$\n",
    "    \\frac{\\partial u}{\\partial t} + u\\frac{\\partial u}{\\partial x} + 0.022^2 \\frac{\\partial^3 u}{\\partial x^3} = 0,\n",
    "$$\n",
    "\n",
    "subject to initial/boundary conditions:\n",
    "\n",
    "$$ u\\left(0,x\\right) = \\cos\\left(\\pi x\\right), $$\n",
    "$$    u\\left(t,-1\\right) = u\\left(t,1\\right). $$"
   ]
  },
  {
   "cell_type": "code",
   "execution_count": null,
   "id": "50901c7c-6e31-4947-b137-e7182b6f8a80",
   "metadata": {},
   "outputs": [],
   "source": [
    "filename = 'kdv'\n",
    "\n",
    "# Save as npz\n",
    "mat_to_np(filename)"
   ]
  },
  {
   "cell_type": "code",
   "execution_count": null,
   "id": "3e3122dd-35b3-4550-be1d-c1c0af6adc78",
   "metadata": {},
   "outputs": [],
   "source": [
    "filename = 'kdv'\n",
    "\n",
    "# Load file and display for documentation purposes\n",
    "ref = np.load(os.path.join(data_dir,filename+'.npz'))\n",
    "\n",
    "plot_sol(ref, \"Korteweg–De Vries\", save_fig=True)#, clim=(-1,2))"
   ]
  },
  {
   "cell_type": "markdown",
   "id": "54c781d9-8409-41a9-b9e0-a42ffb49e179",
   "metadata": {},
   "source": []
  },
  {
   "cell_type": "markdown",
   "id": "b101e0b5-4dbd-4490-a25a-16f2b9678f87",
   "metadata": {},
   "source": [
    "### 4. Sine Gordon"
   ]
  },
  {
   "cell_type": "markdown",
   "id": "9ca93363-f898-4aba-84a0-0a571c37530a",
   "metadata": {},
   "source": [
    "The Sine Gordon equation for $t \\in \\left[0,1\\right],~ x \\in \\left[0,1\\right]$ is given by\n",
    "\n",
    "$$\n",
    "    \\frac{\\partial^2 u}{\\partial t^2} - \\frac{\\partial^2 u}{\\partial x^2} + \\sin u = 0, \n",
    "$$\n",
    "\n",
    "subject to initial/boundary conditions:\n",
    "\n",
    "$$ u\\left(0,x\\right) = \\sin\\left(\\pi x\\right) , $$\n",
    "$$ u\\left(t,0\\right) = u\\left(t,1\\right) = 0. $$\n",
    "\n",
    "The analytic solution of this equation is known:\n",
    "\n",
    "$$ u\\left(t,x\\right) = \\frac{1}{2}\\left[\\sin\\left(\\pi\\left(x+t\\right)\\right) + \\sin\\left(\\pi\\left(x-t\\right)\\right)\\right]. $$"
   ]
  },
  {
   "cell_type": "code",
   "execution_count": null,
   "id": "bff66839-757e-4a3d-8b13-40d4cfc6702b",
   "metadata": {},
   "outputs": [],
   "source": [
    "points = {'t' : np.linspace(0, 1, 201), 'x' : np.linspace(0, 1, 201)}"
   ]
  },
  {
   "cell_type": "code",
   "execution_count": null,
   "id": "bcf67941-4f01-431b-a9e4-9fe9c456b53a",
   "metadata": {},
   "outputs": [],
   "source": [
    "filename = 'sg'\n",
    "\n",
    "def func(coords):\n",
    "    return 0.5*(np.sin(np.pi*(coords[:,[1]] + coords[:,[0]])) + np.sin(np.pi*(coords[:,[1]] - coords[:,[0]])))\n",
    "\n",
    "create_sol(points, func, filename)"
   ]
  },
  {
   "cell_type": "code",
   "execution_count": null,
   "id": "b3055883-ad71-4971-8aff-0c0081212025",
   "metadata": {},
   "outputs": [],
   "source": [
    "filename = 'sg'\n",
    "\n",
    "# Load file and display for documentation purposes\n",
    "ref = np.load(os.path.join(data_dir, filename+'.npz'))\n",
    "\n",
    "plot_sol(ref, \"Sine Gordon\", save_fig=True)"
   ]
  },
  {
   "cell_type": "code",
   "execution_count": null,
   "id": "85a8e575-a862-4d9d-a8e1-96344f287fcd",
   "metadata": {},
   "outputs": [],
   "source": []
  },
  {
   "cell_type": "markdown",
   "id": "921fd0b3-d495-493c-9a7f-611420bec71d",
   "metadata": {},
   "source": [
    "### 5. Advection"
   ]
  },
  {
   "cell_type": "markdown",
   "id": "b147d3c9-0378-4d60-bad5-d1b12323244b",
   "metadata": {},
   "source": [
    "The Advection equation for $t \\in \\left[0,1\\right],~ x \\in \\left[0,2\\pi\\right]$ is given by\n",
    "\n",
    "$$\n",
    "    \\frac{\\partial u}{\\partial t} + 20\\frac{\\partial u}{\\partial x} = 0, \n",
    "$$\n",
    "\n",
    "subject to initial/boundary conditions:\n",
    "\n",
    "$$ u\\left(0,x\\right) = \\sin\\left( x\\right) , $$\n",
    "$$ u\\left(t,x\\right) = u\\left(t,x+2\\pi\\right). $$\n",
    "\n",
    "The analytic solution of this equation is known:\n",
    "\n",
    "$$ u\\left(t,x\\right) = \\sin\\left(\\text{mod}\\left(x - 20t, 2\\pi\\right)\\right). $$"
   ]
  },
  {
   "cell_type": "code",
   "execution_count": null,
   "id": "f62cb090-c486-46ec-945e-eda3c6135b4e",
   "metadata": {},
   "outputs": [],
   "source": [
    "points = {'t' : np.linspace(0, 1, 201), 'x' : np.linspace(0, 2*np.pi, 512)}"
   ]
  },
  {
   "cell_type": "code",
   "execution_count": null,
   "id": "bf3d2391-229a-4a56-b758-8f554bfb7961",
   "metadata": {},
   "outputs": [],
   "source": [
    "filename = 'advection'\n",
    "\n",
    "def func(coords):\n",
    "    return np.sin(np.mod(coords[:,[1]] - 20 * coords[:,[0]], 2 * np.pi))\n",
    "\n",
    "create_sol(points, func, filename)"
   ]
  },
  {
   "cell_type": "code",
   "execution_count": null,
   "id": "09461da1-3dda-41c0-8063-9932f01ce502",
   "metadata": {},
   "outputs": [],
   "source": [
    "filename = 'advection'\n",
    "\n",
    "# Load file and display for documentation purposes\n",
    "ref = np.load(os.path.join(data_dir,filename+'.npz'))\n",
    "\n",
    "plot_sol(ref, \"Advection\", save_fig=True)"
   ]
  },
  {
   "cell_type": "code",
   "execution_count": null,
   "id": "f055f2d3-bbe7-4ee3-a03e-98df6c961e9a",
   "metadata": {},
   "outputs": [],
   "source": []
  },
  {
   "cell_type": "markdown",
   "id": "b9f7bf2a-f734-4e93-b1bd-e0e62eff5254",
   "metadata": {},
   "source": [
    "### 6. Helmholtz"
   ]
  },
  {
   "cell_type": "markdown",
   "id": "114f9eb6-2b39-4a14-8b37-f4aecd820625",
   "metadata": {},
   "source": [
    "The Helmholtz equation for $x \\in \\left[-1,1\\right],~ y \\in \\left[-1,1\\right]$ is given by\n",
    "\n",
    "$$\n",
    "    \\frac{\\partial^2 u}{\\partial x^2} + \\frac{\\partial^2 u}{\\partial y^2} + u = \\left[1 -\\pi^2\\left(a_1^2 + a_2^2\\right)\\right]\\sin\\left(a_1\\pi x\\right)\\sin\\left(a_2\\pi y\\right), \n",
    "$$\n",
    "\n",
    "subject to boundary conditions:\n",
    "\n",
    "$$ u\\left(-1,y\\right) = u\\left(1,y\\right) = u\\left(x,-1\\right) = u\\left(x,1\\right) = 0. $$\n",
    "\n",
    "The analytical solution of this equation is known:\n",
    "\n",
    "$$ u\\left(x,y\\right) = \\sin\\left(a_1\\pi x\\right)\\sin\\left(a_2\\pi y\\right). $$\n",
    "\n",
    "In our experiments we solve the Helmholtz equation for $a_1 = 1$, $a_2 = 4$."
   ]
  },
  {
   "cell_type": "code",
   "execution_count": null,
   "id": "22b8ff5a-ee1b-4800-bcdc-4c64db1f4af0",
   "metadata": {},
   "outputs": [],
   "source": [
    "points = {'x' : np.linspace(-1, 1, 512), 'y' : np.linspace(-1, 1, 512)}"
   ]
  },
  {
   "cell_type": "code",
   "execution_count": null,
   "id": "8482e971-b64d-4e24-bc0e-5c360f1a7111",
   "metadata": {},
   "outputs": [],
   "source": [
    "filename = 'helmholtz_1-4'\n",
    "\n",
    "def func(coords):\n",
    "    a1, a2 = 1.0, 4.0\n",
    "    return np.sin(np.pi * a1 * coords[:, [0]]) * np.sin(np.pi * a2 * coords[:, [1]])\n",
    "\n",
    "create_sol(points, func, filename)"
   ]
  },
  {
   "cell_type": "code",
   "execution_count": null,
   "id": "633cd1dc-1b50-4396-bb98-59660ff7a632",
   "metadata": {},
   "outputs": [],
   "source": [
    "filename = 'helmholtz_1-4'\n",
    "\n",
    "# Load file and display for documentation purposes\n",
    "ref = np.load(os.path.join(data_dir,filename+'.npz'))\n",
    "\n",
    "plot_sol(ref, r\"Helmholtz\", save_fig=True, clim=(-1,1))"
   ]
  },
  {
   "cell_type": "code",
   "execution_count": null,
   "id": "0b6564bb-3c98-4db3-94e9-97a54ec206b1",
   "metadata": {},
   "outputs": [],
   "source": []
  },
  {
   "cell_type": "markdown",
   "id": "20b5583d-a448-4779-8e87-48f96be90548",
   "metadata": {},
   "source": [
    "### 7. Poisson"
   ]
  },
  {
   "cell_type": "markdown",
   "id": "9197a3c2-d7b9-430a-a7aa-baac81ee3eec",
   "metadata": {},
   "source": [
    "The Poisson equation for $x \\in \\left[-1,1\\right],~ y \\in \\left[-1,1\\right]$ is given by\n",
    "\n",
    "$$\n",
    "    \\frac{\\partial^2 u}{\\partial x^2} + \\frac{\\partial^2 u}{\\partial y^2} = -2\\omega^2\\pi^2\\sin\\left(\\omega\\pi x\\right)\\sin\\left(\\omega\\pi y\\right), \n",
    "$$\n",
    "\n",
    "subject to boundary conditions:\n",
    "\n",
    "$$ u\\left(-1,y\\right) = u\\left(1,y\\right) = u\\left(x,-1\\right) = u\\left(x,1\\right) = 0. $$\n",
    "\n",
    "The analytical solution of this equation is known:\n",
    "\n",
    "$$ u\\left(x,y\\right) = \\sin\\left(\\omega\\pi x\\right)\\sin\\left(\\omega\\pi y\\right). $$\n",
    "\n",
    "In our experiments we solve the Poisson equation for different values of $\\omega$, therefore we modify the code above used for plotting."
   ]
  },
  {
   "cell_type": "code",
   "execution_count": null,
   "id": "cae4eea0-cad0-4d30-aba2-a678e11a5ba3",
   "metadata": {},
   "outputs": [],
   "source": [
    "LABEL_FS = 14\n",
    "TITLE_FS = 16\n",
    "TICK_FS = 12\n",
    "CBAR_FS = 14\n",
    "\n",
    "def plot_poisson_solutions(ref_list, omega_values, save_fig=False, clim=None):\n",
    "    \n",
    "    fig = plt.figure(figsize=(11, 4))\n",
    "    gs = fig.add_gridspec(2, 3, height_ratios=[1, 0.05], wspace=0.4, hspace=0.3)\n",
    "    \n",
    "    axes = np.array([\n",
    "        fig.add_subplot(gs[0, 0]), fig.add_subplot(gs[0, 1]), fig.add_subplot(gs[0, 2])\n",
    "    ])\n",
    "    \n",
    "    cax = fig.add_subplot(gs[1, :])\n",
    "\n",
    "    cmap = sns.color_palette(\"Spectral\", as_cmap=True)\n",
    "\n",
    "    img_list = []\n",
    "    for ax, ref, omega in zip(axes.flatten(), ref_list, omega_values):\n",
    "        solplot = ref['usol']\n",
    "        x = ref['x'].squeeze()\n",
    "        y = ref['y'].squeeze()\n",
    "        extent = [x.min(), x.max(), y.min(), y.max()]\n",
    "        img = ax.imshow(solplot.T, aspect='auto', origin='lower', extent=extent, cmap=cmap)\n",
    "        if clim is not None:\n",
    "            img.set_clim(*clim)\n",
    "        ax.set_title(fr\"$\\omega = {omega}$\", fontsize=TITLE_FS)\n",
    "        ax.tick_params(axis='both', which='major', labelsize=TICK_FS)\n",
    "        img_list.append(img)\n",
    "\n",
    "\n",
    "    for ax in axes:\n",
    "        ax.set_xlabel(r\"$x$\", fontsize=LABEL_FS)\n",
    "        ax.set_ylabel(r\"$y$\", fontsize=LABEL_FS)\n",
    "\n",
    "\n",
    "    # Shared colorbar on the right\n",
    "    cbar = fig.colorbar(img_list[-1], cax=cax, orientation='horizontal')\n",
    "    cbar.ax.tick_params(labelsize=CBAR_FS)\n",
    "    cbar.set_label(r\"$u(x,y)$\", fontsize=LABEL_FS, labelpad=10)\n",
    "\n",
    "    pos = cax.get_position()\n",
    "    cax.set_position([pos.x0, pos.y0 - 0.08, pos.width, pos.height])\n",
    "\n",
    "    plt.suptitle(\"Solution to Poisson Equation\", fontsize=TITLE_FS, y=1.05)\n",
    "    #plt.tight_layout()\n",
    "\n",
    "    if save_fig:\n",
    "        plots_dir = os.path.join(parent_dir, \"plots\")\n",
    "        plt.savefig(f\"{plots_dir}/app_poisson.pdf\", format=\"pdf\", bbox_inches=\"tight\")\n",
    "    \n",
    "    plt.show()\n",
    "\n"
   ]
  },
  {
   "cell_type": "markdown",
   "id": "3c2d4a3b-385f-4dcd-bfc2-2f4ce2b189df",
   "metadata": {},
   "source": [
    "Create the reference solutions:"
   ]
  },
  {
   "cell_type": "code",
   "execution_count": null,
   "id": "63d9beab-3cce-4805-9da4-7e7092aaa578",
   "metadata": {},
   "outputs": [],
   "source": [
    "points = {'x' : np.linspace(-1, 1, 512), 'y' : np.linspace(-1, 1, 512)}\n",
    "\n",
    "# w = 1\n",
    "def func(coords):\n",
    "    a1, a2 = 1.0, 1.0\n",
    "    return np.sin(np.pi * a1 * coords[:, [0]]) * np.sin(np.pi * a2 * coords[:, [1]])\n",
    "\n",
    "create_sol(points, func, 'poisson_1')\n",
    "\n",
    "# w = 2\n",
    "def func(coords):\n",
    "    a1, a2 = 2.0, 2.0\n",
    "    return np.sin(np.pi * a1 * coords[:, [0]]) * np.sin(np.pi * a2 * coords[:, [1]])\n",
    "\n",
    "create_sol(points, func, 'poisson_2')\n",
    "\n",
    "# w = 4\n",
    "def func(coords):\n",
    "    a1, a2 = 4.0, 4.0\n",
    "    return np.sin(np.pi * a1 * coords[:, [0]]) * np.sin(np.pi * a2 * coords[:, [1]])\n",
    "\n",
    "create_sol(points, func, 'poisson_4')"
   ]
  },
  {
   "cell_type": "markdown",
   "id": "b89caf7f-6b14-42cc-8351-fd8a498ca61c",
   "metadata": {},
   "source": [
    "Plot the reference solutions:"
   ]
  },
  {
   "cell_type": "code",
   "execution_count": null,
   "id": "5a5c7c92-a2be-4e9f-97dd-7797949023f6",
   "metadata": {},
   "outputs": [],
   "source": [
    "ref1 = np.load(os.path.join(data_dir,'poisson_1.npz'))\n",
    "ref2 = np.load(os.path.join(data_dir,'poisson_2.npz'))\n",
    "ref4 = np.load(os.path.join(data_dir,'poisson_4.npz'))"
   ]
  },
  {
   "cell_type": "code",
   "execution_count": null,
   "id": "62f437ce-bb1f-41e1-b506-edd49db6388f",
   "metadata": {},
   "outputs": [],
   "source": [
    "omega_vals = [1, 2, 4]\n",
    "refs = [ref1, ref2, ref4]\n",
    "\n",
    "plot_poisson_solutions(refs, omega_vals, True, clim=(-1,1))"
   ]
  },
  {
   "cell_type": "code",
   "execution_count": null,
   "id": "92882ea2-8224-4a25-b2a6-8bae6f718543",
   "metadata": {},
   "outputs": [],
   "source": []
  }
 ],
 "metadata": {
  "kernelspec": {
   "display_name": "Python 3 (ipykernel)",
   "language": "python",
   "name": "python3"
  },
  "language_info": {
   "codemirror_mode": {
    "name": "ipython",
    "version": 3
   },
   "file_extension": ".py",
   "mimetype": "text/x-python",
   "name": "python",
   "nbconvert_exporter": "python",
   "pygments_lexer": "ipython3",
   "version": "3.10.12"
  }
 },
 "nbformat": 4,
 "nbformat_minor": 5
}
